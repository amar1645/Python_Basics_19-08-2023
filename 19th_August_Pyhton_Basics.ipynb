{
 "cells": [
  {
   "cell_type": "markdown",
   "id": "a9725dc4-8110-47ed-8702-34b6a60ad298",
   "metadata": {},
   "source": [
    "1. Declare two variables, `x` and `y`, and assign them integer values. Swap the values of these variables without using any temporary variable."
   ]
  },
  {
   "cell_type": "code",
   "execution_count": null,
   "id": "5a66dded-032e-43bd-97da-be5cbb9f0f3d",
   "metadata": {},
   "outputs": [],
   "source": [
    "x = 10\n",
    "y = 20\n",
    "x,y = y,x\n",
    "print(x)\n",
    "print(y)"
   ]
  },
  {
   "cell_type": "markdown",
   "id": "ccc8fc95-b4c0-4f48-a464-bedb0b92faa0",
   "metadata": {},
   "source": [
    "2. Create a program that calculates the area of a rectangle. Take the length and width as inputs from the user and store them in variables. Calculate and display the area."
   ]
  },
  {
   "cell_type": "code",
   "execution_count": null,
   "id": "2c196128-f800-401c-8429-eb0d4bd73ce3",
   "metadata": {},
   "outputs": [],
   "source": [
    "rectangle_len = float(input(\"Enter the length of rectangle:\"))\n",
    "rectangle_wid = float(input(\"Enter the width of rectangle:\"))\n",
    "\n",
    "# Calculating area of rectangle using (area = length * width)\n",
    "area_of_rectangle = rectangle_len * rectangle_wid\n",
    "print(\"Area of rectangle is:\", area_of_rectangle)"
   ]
  },
  {
   "cell_type": "markdown",
   "id": "e9228e6d-18ed-46fc-b5e6-b5b7d73b3a32",
   "metadata": {},
   "source": [
    "3. Write a Python program that converts temperatures from Celsius to Fahrenheit. Take the temperature in Celsius as input, store it in a variable, convert it to Fahrenheit, and display the result.\n"
   ]
  },
  {
   "cell_type": "code",
   "execution_count": null,
   "id": "190e649f-09a6-4937-9d65-856e24bc23ba",
   "metadata": {},
   "outputs": [],
   "source": [
    "temp_c = float(input(\"Enter temprature in celsius:\"))\n",
    "\n",
    "#Calculating temprature in fahrenheit\n",
    "temp_f = (temp_c * 1.8) + 32\n",
    "print(\"Temprature in fahrenheit is:\", temp_f)"
   ]
  },
  {
   "cell_type": "markdown",
   "id": "44db117d-e89f-42a0-99b3-63763f38c1c4",
   "metadata": {},
   "source": [
    "1. Write a Python program that takes a string as input and prints the length of the string."
   ]
  },
  {
   "cell_type": "code",
   "execution_count": null,
   "id": "9bae8ec3-8c06-48d0-833d-50f3b83ab598",
   "metadata": {},
   "outputs": [],
   "source": [
    "user_str = input(\"Enter any string:\")\n",
    "print(\"Length of given string is:\", len(user_str))"
   ]
  },
  {
   "cell_type": "markdown",
   "id": "0a3cdc39-db5d-4727-8d36-f8064c2dd87f",
   "metadata": {},
   "source": [
    "2. Create a program that takes a sentence from the user and counts the number of vowels (a, e, i, o, u) in the string."
   ]
  },
  {
   "cell_type": "code",
   "execution_count": null,
   "id": "ac67fc92-503d-4cac-9ee8-7b887a3ff367",
   "metadata": {},
   "outputs": [],
   "source": [
    "user_input_str = input(\"Enter any input as a string:\").lower()\n",
    "\n",
    "#counting all vowels in given string and adding to get total vowels in string.\n",
    "count_a = user_input_str.count(\"a\")\n",
    "count_e = user_input_str.count(\"e\")\n",
    "count_i = user_input_str.count(\"i\")\n",
    "count_o = user_input_str.count(\"o\")\n",
    "count_u = user_input_str.count(\"u\")\n",
    "print(\"Count of vowels in given string is:\", count_a+count_e+count_i+count_o+count_u)"
   ]
  },
  {
   "cell_type": "markdown",
   "id": "cc648757-3d75-4e16-b173-ce34eb5fde9b",
   "metadata": {},
   "source": [
    "3. Given a string, reverse the order of characters using string slicing and print the reversed string."
   ]
  },
  {
   "cell_type": "code",
   "execution_count": null,
   "id": "7c2e0e55-2128-49eb-ab26-e8b90c71f936",
   "metadata": {},
   "outputs": [],
   "source": [
    "input_str = input(\"Enter any string:\")\n",
    "print(\"Reverse of input string is:\", input_str[::-1])"
   ]
  },
  {
   "cell_type": "markdown",
   "id": "b23296d1-f85d-4a0b-8b5e-40e1b26b998e",
   "metadata": {},
   "source": [
    "4. Write a program that takes a string as input and checks if it is a palindrome (reads the same forwards and backwards)."
   ]
  },
  {
   "cell_type": "code",
   "execution_count": null,
   "id": "1481c801-b056-4c4f-a8a7-23f994cba343",
   "metadata": {},
   "outputs": [],
   "source": [
    "string_input = input(\"Enter any string:\").lower()\n",
    "\n",
    "#To check palindrome we will find the reverse of string and compare with original string.\n",
    "print(\"Given string is palindrom(True/False):\", string_input == string_input[::-1])"
   ]
  },
  {
   "cell_type": "markdown",
   "id": "38aa1e4a-6794-41d8-b1c7-418c25b546aa",
   "metadata": {},
   "source": [
    "5. Create a program that takes a string as input and removes all the spaces from it. Print the modified string without spaces"
   ]
  },
  {
   "cell_type": "code",
   "execution_count": null,
   "id": "54b4462f-5e75-494c-9268-67f9430e1701",
   "metadata": {},
   "outputs": [],
   "source": [
    "str_input = input(\"Enter any string:\")\n",
    "print(\"String after removing all spaces:\", str_input.replace(\" \", \"\"))"
   ]
  }
 ],
 "metadata": {
  "kernelspec": {
   "display_name": "Python 3 (ipykernel)",
   "language": "python",
   "name": "python3"
  },
  "language_info": {
   "codemirror_mode": {
    "name": "ipython",
    "version": 3
   },
   "file_extension": ".py",
   "mimetype": "text/x-python",
   "name": "python",
   "nbconvert_exporter": "python",
   "pygments_lexer": "ipython3",
   "version": "3.8.0"
  }
 },
 "nbformat": 4,
 "nbformat_minor": 5
}
